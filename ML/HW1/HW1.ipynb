{
 "cells": [
  {
   "cell_type": "markdown",
   "metadata": {},
   "source": [
    "# Q1"
   ]
  },
  {
   "cell_type": "code",
   "execution_count": null,
   "metadata": {},
   "outputs": [
    {
     "name": "stdout",
     "output_type": "stream",
     "text": [
      "abc\n",
      "ab\n"
     ]
    }
   ],
   "source": [
    "def find_longest_substring(s: str) -> str:\n",
    "    char_index = {}\n",
    "    start = 0\n",
    "    max_len = 0\n",
    "    longest_substring = \"\"\n",
    "    \n",
    "    for i, char in enumerate(s):\n",
    "        if char in char_index and char_index[char] >= start:\n",
    "            start = char_index[char] + 1\n",
    "        char_index[char] = i\n",
    "        if i - start + 1 > max_len:\n",
    "            max_len = i - start + 1\n",
    "            longest_substring = s[start:i+1]\n",
    "    return longest_substring\n",
    "print(find_longest_substring(\"abcabcbb\"))\n",
    "print(find_longest_substring(\"abbbbb\"))\n",
    "\n"
   ]
  },
  {
   "cell_type": "markdown",
   "metadata": {},
   "source": [
    "# Q2"
   ]
  },
  {
   "cell_type": "code",
   "execution_count": 8,
   "metadata": {},
   "outputs": [
    {
     "name": "stdout",
     "output_type": "stream",
     "text": [
      "20\n",
      "2\n"
     ]
    }
   ],
   "source": [
    "def find_gcd(a, b):\n",
    "    max = 0\n",
    "    min = 0\n",
    "    if a>b:\n",
    "        max = a\n",
    "        min = b\n",
    "    else:\n",
    "        max = b\n",
    "        min = a\n",
    "    if min == 0:\n",
    "        return a\n",
    "    else:\n",
    "        return find_gcd(min, max % min)\n",
    "print(find_gcd(100,80))\n",
    "print(find_gcd(24,50))\n",
    "        "
   ]
  },
  {
   "cell_type": "markdown",
   "metadata": {},
   "source": [
    "# Q3"
   ]
  },
  {
   "cell_type": "code",
   "execution_count": 20,
   "metadata": {},
   "outputs": [
    {
     "name": "stdout",
     "output_type": "stream",
     "text": [
      "Epoch 1, SGD Weights: [0.12405554 0.49573844 0.0288691 ], Adam Weights: [0.9083204  0.25777998 0.66152228]\n",
      "Epoch 2, SGD Weights: [0.12608087 0.49631157 0.02337043], Adam Weights: [0.9073205  0.2567801  0.66052232]\n",
      "Epoch 3, SGD Weights: [0.12811407 0.49689615 0.01789231], Adam Weights: [0.90632075 0.25578041 0.6595224 ]\n",
      "Epoch 4, SGD Weights: [0.13015499 0.497492   0.01243457], Adam Weights: [0.90532122 0.254781   0.65852255]\n",
      "Epoch 5, SGD Weights: [0.1322035  0.49809894 0.00699702], Adam Weights: [0.90432197 0.25378194 0.6575228 ]\n",
      "Epoch 6, SGD Weights: [0.13425944 0.49871681 0.00157948], Adam Weights: [0.90332307 0.2527833  0.65652316]\n",
      "Epoch 7, SGD Weights: [ 0.13632268  0.49934545 -0.00381823], Adam Weights: [0.90232457 0.25178518 0.65552366]\n",
      "Epoch 8, SGD Weights: [ 0.13839307  0.4999847  -0.00919627], Adam Weights: [0.90132655 0.25078764 0.65452431]\n",
      "Epoch 9, SGD Weights: [ 0.14047049  0.50063438 -0.01455483], Adam Weights: [0.90032905 0.24979076 0.65352513]\n",
      "Epoch 10, SGD Weights: [ 0.14255479  0.50129435 -0.01989407], Adam Weights: [0.89933214 0.24879462 0.65252615]\n",
      "Final SGD Weights: [ 0.14255479  0.50129435 -0.01989407]\n",
      "Final Adam Weights: [0.89933214 0.24879462 0.65252615]\n"
     ]
    }
   ],
   "source": [
    "import numpy as np\n",
    "\n",
    "def compute_gradient(X, y, weights):\n",
    "\n",
    "    y_pred = X @ weights\n",
    "    \n",
    "    gradient = -2 * X.T @ (y - y_pred) / len(y)\n",
    "    \n",
    "    return gradient\n",
    "\n",
    "def sgd_optimizer(weights, gradients, learning_rate=0.01):\n",
    "\n",
    "    return weights - learning_rate * gradients\n",
    "\n",
    "def adam_optimizer(weights, gradients, m, v, t, learning_rate=0.001, beta1=0.9, beta2=0.999, epsilon=1e-8):\n",
    "\n",
    "    m = beta1 * m + (1 - beta1) * gradients\n",
    "    \n",
    "    v = beta2 * v + (1 - beta2) * (gradients ** 2)\n",
    "    \n",
    "    m_hat = m / (1 - beta1 ** t)\n",
    "    \n",
    "    v_hat = v / (1 - beta2 ** t)\n",
    "    \n",
    "    weights = weights - learning_rate * m_hat / (np.sqrt(v_hat) + epsilon)\n",
    "    \n",
    "    return weights, m, v\n",
    "\n",
    "np.random.seed(42)\n",
    "X_data = np.random.rand(10, 3)\n",
    "true_weights = np.array([2.0, 1.5, -3.0])\n",
    "y_data = X_data @ true_weights + np.random.rand(10) * 0.1\n",
    "\n",
    "weights_sgd = np.random.rand(3)\n",
    "weights_adam = np.random.rand(3)\n",
    "\n",
    "m = np.zeros(3)\n",
    "v = np.zeros(3)\n",
    "t = 0\n",
    "\n",
    "for epoch in range(10):\n",
    "    t += 1\n",
    "    \n",
    "    gradient_sgd = compute_gradient(X_data, y_data, weights_sgd)\n",
    "    gradient_adam = compute_gradient(X_data, y_data, weights_adam)\n",
    "    \n",
    "    weights_sgd = sgd_optimizer(weights_sgd, gradient_sgd)\n",
    "    \n",
    "    weights_adam, m, v = adam_optimizer(weights_adam, gradient_adam, m, v, t)\n",
    "    \n",
    "    print(f'Epoch {epoch + 1}, SGD Weights: {weights_sgd}, Adam Weights: {weights_adam}')\n",
    "\n",
    "print(f'Final SGD Weights: {weights_sgd}')\n",
    "print(f'Final Adam Weights: {weights_adam}')\n"
   ]
  },
  {
   "cell_type": "markdown",
   "metadata": {},
   "source": [
    "# Q4"
   ]
  },
  {
   "cell_type": "code",
   "execution_count": 30,
   "metadata": {},
   "outputs": [
    {
     "name": "stdout",
     "output_type": "stream",
     "text": [
      "[]\n",
      "[1, 2, 3, 4, 5, 6, 7, 8, 9, 10, 11, 13, 14, 15, 16, 17, 18, 19, 20, 21, 22, 24, 25, 26, 27, 28, 29, 30, 31, 32, 33, 35, 36, 37, 38, 39, 40, 41, 42, 43, 44, 46, 47, 48, 49, 50, 51, 52, 53, 54, 55, 57, 58, 59, 60, 61, 62, 63, 64, 65, 66, 68, 69, 70, 71, 72, 73, 74, 75, 76, 77, 79, 80, 81, 82, 83, 84, 85, 86, 87, 88]\n"
     ]
    }
   ],
   "source": [
    "def find_missing_numbers(lst, n):\n",
    "    numbers = [i for i in range(1,n+1)]\n",
    "    for i in lst:\n",
    "        numbers.remove(i)\n",
    "    return numbers\n",
    "list_1 = [5, 2, 8, 1, 4, 9, 3, 10, 6, 7]\n",
    "list_2 = [34, 89, 12, 67, 45, 23, 90, 78, 56]\n",
    "\n",
    "print(find_missing_numbers(list_1,10))\n",
    "print(find_missing_numbers(list_2,90))"
   ]
  },
  {
   "cell_type": "markdown",
   "metadata": {},
   "source": [
    "# Q5"
   ]
  },
  {
   "cell_type": "code",
   "execution_count": 31,
   "metadata": {},
   "outputs": [
    {
     "name": "stdout",
     "output_type": "stream",
     "text": [
      "Grouped Anagrams 1: [['race', 'care', 'acer'], ['hello', 'olelh'], ['world', 'dlrow']]\n",
      "Grouped Anagrams 2: [['stop', 'spot', 'tops', 'opts'], ['cat', 'act', 'tac'], ['hello']]\n",
      "Grouped Anagrams 2: [['listen', 'silent'], ['eat', 'ate', 'tea'], ['coffee']]\n"
     ]
    }
   ],
   "source": [
    "def anagrams_group(words):\n",
    "\n",
    "    anagrams_dict = {}\n",
    "    \n",
    "    for word in words:\n",
    "\n",
    "        sorted_word = ''.join(sorted(word))\n",
    "        \n",
    "        if sorted_word not in anagrams_dict:\n",
    "            anagrams_dict[sorted_word] = []\n",
    "        anagrams_dict[sorted_word].append(word)\n",
    "    \n",
    "    return list(anagrams_dict.values())\n",
    "\n",
    "\n",
    "words_list_1 = [\"race\", \"care\", \"acer\", \"hello\", \"olelh\", \"world\", \"dlrow\"]\n",
    "grouped_anagrams_1 = anagrams_group(words_list_1)\n",
    "print(\"Grouped Anagrams 1:\", grouped_anagrams_1)\n",
    "\n",
    "\n",
    "words_list_2 = [\"stop\", \"spot\", \"tops\", \"opts\", \"cat\", \"act\", \"tac\", \"hello\"]\n",
    "grouped_anagrams_2 = anagrams_group(words_list_2)\n",
    "print(\"Grouped Anagrams 2:\", grouped_anagrams_2)\n",
    "\n",
    "words_list_3 = [\"listen\", \"silent\", \"eat\", \"ate\", \"tea\", \"coffee\"]\n",
    "grouped_anagrams_3 = anagrams_group(words_list_3)\n",
    "print(\"Grouped Anagrams 2:\", grouped_anagrams_3)\n"
   ]
  },
  {
   "cell_type": "markdown",
   "metadata": {},
   "source": [
    "# Q6"
   ]
  },
  {
   "cell_type": "code",
   "execution_count": 33,
   "metadata": {},
   "outputs": [
    {
     "name": "stdout",
     "output_type": "stream",
     "text": [
      "{'a': 1, 'b': 5, 'c': 7, 'd': 5}\n",
      "{'a': 1, 'b': 2, 'c': 3, 'd': 3, 'e': 4, 'f': 5}\n"
     ]
    }
   ],
   "source": [
    "def merge_dicts(dict1 , dict2):\n",
    "    combined_dict = dict1.copy()\n",
    "\n",
    "    for key, value in dict2.items():\n",
    "        if key in combined_dict:\n",
    "            combined_dict[key] += value\n",
    "        else:\n",
    "            combined_dict[key] = value\n",
    "\n",
    "    return combined_dict\n",
    "\n",
    "dict_a = {'a': 1, 'b': 2, 'c': 3}\n",
    "dict_b = {'b': 3, 'c': 4, 'd': 5}\n",
    "\n",
    "combined = merge_dicts(dict_a, dict_b)\n",
    "print(combined)\n",
    "\n",
    "\n",
    "dict_a = {'a': 1, 'b': 2, 'c': 3}\n",
    "dict_b = {'d': 3, 'e': 4, 'f': 5}\n",
    "\n",
    "combined = merge_dicts(dict_a, dict_b)\n",
    "print(combined)"
   ]
  },
  {
   "cell_type": "markdown",
   "metadata": {},
   "source": [
    "# Q7"
   ]
  },
  {
   "cell_type": "code",
   "execution_count": 6,
   "metadata": {},
   "outputs": [
    {
     "name": "stdout",
     "output_type": "stream",
     "text": [
      "['apple', 'banana', 'grape']\n",
      "['dog', 'tiger', 'elephant', 'mouse']\n"
     ]
    }
   ],
   "source": [
    "def top_k_frequent_words(words, k):\n",
    "\n",
    "    #word_count = Counter(words)\n",
    "    word_count = {}\n",
    "    for i in words:\n",
    "        if i in word_count.keys():\n",
    "            word_count[i] += 1\n",
    "        else:\n",
    "            word_count[i] = 1\n",
    "            \n",
    "    sorted_words = sorted(word_count.items(), key=lambda x: (-x[1], x[0]))\n",
    "\n",
    "    return [word for word, _ in sorted_words[:k]]\n",
    "\n",
    "words_list = [\"apple\", \"banana\", \"apple\", \"orange\", \"banana\", \"apple\", \"banana\", \"grape\", \"grape\"]\n",
    "k = 3\n",
    "top_k_words = top_k_frequent_words(words_list, k)\n",
    "print(top_k_words)\n",
    "\n",
    "words_list = [\n",
    "    \"dog\", \"cat\", \"elephant\", \"cat\", \"dog\", \"dog\", \"tiger\", \"elephant\", \"mouse\", \n",
    "    \"cat\", \"mouse\", \"tiger\", \"tiger\", \"dog\", \"lion\", \"lion\", \"tiger\", \"elephant\", \n",
    "    \"lion\", \"mouse\", \"tiger\", \"dog\", \"mouse\", \"elephant\"\n",
    "]\n",
    "k = 4\n",
    "top_k_words = top_k_frequent_words(words_list, k)\n",
    "print(top_k_words)\n"
   ]
  },
  {
   "cell_type": "markdown",
   "metadata": {},
   "source": [
    "# Q8"
   ]
  },
  {
   "cell_type": "code",
   "execution_count": 7,
   "metadata": {},
   "outputs": [
    {
     "name": "stdout",
     "output_type": "stream",
     "text": [
      "[1]\n",
      "[1, 1]\n",
      "[1, 2, 1]\n",
      "[1, 3, 3, 1]\n",
      "[1, 4, 6, 4, 1]\n",
      "________________________________________________\n",
      "[1]\n",
      "[1, 1]\n",
      "[1, 2, 1]\n",
      "[1, 3, 3, 1]\n",
      "[1, 4, 6, 4, 1]\n",
      "[1, 5, 10, 10, 5, 1]\n",
      "[1, 6, 15, 20, 15, 6, 1]\n"
     ]
    }
   ],
   "source": [
    "def generate_pascal_triangle(num_rows):\n",
    "    if num_rows <= 0:\n",
    "        return []\n",
    "\n",
    "    triangle = [[1]]\n",
    "\n",
    "    for i in range(1, num_rows):\n",
    "        row = [1]\n",
    "\n",
    "        for j in range(1, i):\n",
    "            row.append(triangle[i-1][j-1] + triangle[i-1][j])\n",
    "\n",
    "        row.append(1)\n",
    "\n",
    "        triangle.append(row)\n",
    "\n",
    "    return triangle\n",
    "\n",
    "rows = 5\n",
    "pascals_triangle = generate_pascal_triangle(rows)\n",
    "for row in pascals_triangle:\n",
    "    print(row)\n",
    "print(\"________________________________________________\")\n",
    "rows = 7\n",
    "pascals_triangle = generate_pascal_triangle(rows)\n",
    "for row in pascals_triangle:\n",
    "    print(row)\n"
   ]
  },
  {
   "cell_type": "markdown",
   "metadata": {},
   "source": [
    "# Q9"
   ]
  },
  {
   "cell_type": "code",
   "execution_count": 9,
   "metadata": {},
   "outputs": [
    {
     "name": "stdout",
     "output_type": "stream",
     "text": [
      "[[], [1], [2], [1, 2], [3], [1, 3], [2, 3], [1, 2, 3]]\n",
      "[[], [1], [2], [1, 2], [3], [1, 3], [2, 3], [1, 2, 3], [4], [1, 4], [2, 4], [1, 2, 4], [3, 4], [1, 3, 4], [2, 3, 4], [1, 2, 3, 4], [5], [1, 5], [2, 5], [1, 2, 5], [3, 5], [1, 3, 5], [2, 3, 5], [1, 2, 3, 5], [4, 5], [1, 4, 5], [2, 4, 5], [1, 2, 4, 5], [3, 4, 5], [1, 3, 4, 5], [2, 3, 4, 5], [1, 2, 3, 4, 5]]\n"
     ]
    }
   ],
   "source": [
    "def find_subsets(nums):\n",
    "\n",
    "    if len(nums) == 0:\n",
    "        return [[]]\n",
    "\n",
    "    smaller_subsets = find_subsets(nums[:-1])\n",
    "\n",
    "    extra_subsets = [subset + [nums[-1]] for subset in smaller_subsets]\n",
    "\n",
    "    return smaller_subsets + extra_subsets\n",
    "\n",
    "nums = [1, 2, 3]\n",
    "all_subsets = find_subsets(nums)\n",
    "print(all_subsets)\n",
    "\n",
    "\n",
    "nums = [1, 2, 3, 4, 5]\n",
    "all_subsets = find_subsets(nums)\n",
    "print(all_subsets)"
   ]
  },
  {
   "cell_type": "markdown",
   "metadata": {},
   "source": [
    "# Q10"
   ]
  },
  {
   "cell_type": "code",
   "execution_count": 1,
   "metadata": {},
   "outputs": [
    {
     "name": "stdout",
     "output_type": "stream",
     "text": [
      "Polynomial 1: 2x^2 + 3x^1 + 4\n",
      "Polynomial 2: 1x^2 + -1x^1 + 1\n",
      "Sum of polynomials: 3x^2 + 2x^1 + 5\n",
      "Difference of polynomials: 1x^2 + 4x^1 + 3\n",
      "Evaluation of Polynomial 1 at x=2: 18\n",
      "Evaluation of Polynomial 2 at x=2: 3\n",
      "Quadratic polynomial: 1x^2 + -3x^1 + 2\n",
      "Roots of the quadratic polynomial: (2.0, 1.0)\n"
     ]
    }
   ],
   "source": [
    "from Polynomial import Polynomial\n",
    "import math\n",
    "\n",
    "class QuadraticPolynomial(Polynomial):\n",
    "    def __init__(self, coefficients):\n",
    "        \"\"\"\n",
    "        Initializes a quadratic polynomial with exactly 3 coefficients for ax^2 + bx + c.\n",
    "        \"\"\"\n",
    "        if len(coefficients) != 3:\n",
    "            raise ValueError(\"A quadratic polynomial must have exactly 3 coefficients.\")\n",
    "        super().__init__(coefficients)\n",
    "\n",
    "    def find_roots(self):\n",
    "        \"\"\"\n",
    "        Finds the roots of the quadratic equation using the quadratic formula.\n",
    "        Returns the two roots as a tuple.\n",
    "        \"\"\"\n",
    "        a, b, c = self.coefficients\n",
    "        discriminant = b ** 2 - 4 * a * c\n",
    "        if discriminant < 0:\n",
    "            return None \n",
    "        elif discriminant == 0:\n",
    "            root = -b / (2 * a)\n",
    "            return (root, root)\n",
    "        else:\n",
    "            root1 = (-b + math.sqrt(discriminant)) / (2 * a)\n",
    "            root2 = (-b - math.sqrt(discriminant)) / (2 * a)\n",
    "            return (root1, root2)\n",
    "\n",
    "if __name__ == \"__main__\":\n",
    "    poly1 = Polynomial([2, 3, 4])\n",
    "    poly2 = Polynomial([1, -1, 1])\n",
    "    \n",
    "    print(\"Polynomial 1:\", poly1)\n",
    "    print(\"Polynomial 2:\", poly2)\n",
    "\n",
    "    sum_poly = poly1.add(poly2)\n",
    "    print(\"Sum of polynomials:\", sum_poly)\n",
    "\n",
    "    diff_poly = poly1.subtract(poly2)\n",
    "    print(\"Difference of polynomials:\", diff_poly)\n",
    "\n",
    "    x_value = 2\n",
    "    print(f\"Evaluation of Polynomial 1 at x={x_value}:\", poly1.evaluate(x_value))\n",
    "    print(f\"Evaluation of Polynomial 2 at x={x_value}:\", poly2.evaluate(x_value))\n",
    "\n",
    "    quad_poly = QuadraticPolynomial([1, -3, 2])\n",
    "    print(\"Quadratic polynomial:\", quad_poly)\n",
    "    roots = quad_poly.find_roots()\n",
    "    print(\"Roots of the quadratic polynomial:\", roots)\n"
   ]
  },
  {
   "cell_type": "markdown",
   "metadata": {},
   "source": [
    "# Q11"
   ]
  },
  {
   "cell_type": "code",
   "execution_count": 2,
   "metadata": {},
   "outputs": [
    {
     "name": "stdout",
     "output_type": "stream",
     "text": [
      "Matrix 1:\n",
      "1\t2\n",
      "3\t4\n",
      "\n",
      "Matrix 2:\n",
      "5\t6\n",
      "7\t8\n",
      "\n",
      "Matrix 1 + Matrix 2:\n",
      "6\t8\n",
      "10\t12\n",
      "\n",
      "Matrix 1 - Matrix 2:\n",
      "-4\t-4\n",
      "-4\t-4\n",
      "\n",
      "Matrix 3:\n",
      "1\t2\t3\n",
      "4\t5\t6\n",
      "\n",
      "Matrix 4:\n",
      "7\t8\n",
      "9\t10\n",
      "11\t12\n",
      "\n",
      "Matrix 3 * Matrix 4:\n",
      "58\t64\n",
      "139\t154\n"
     ]
    }
   ],
   "source": [
    "class Matrix:\n",
    "    def __init__(self, data):\n",
    "        self.data = data\n",
    "        self.rows = len(data)\n",
    "        self.cols = len(data[0]) if data else 0\n",
    "\n",
    "    def __str__(self):\n",
    "        return \"\\n\".join([\"\\t\".join(map(str, row)) for row in self.data])\n",
    "\n",
    "    def __add__(self, other):\n",
    "        if self.rows != other.rows or self.cols != other.cols:\n",
    "            raise ValueError(\"Matrices must have the same dimensions for addition.\")\n",
    "        \n",
    "        result = [\n",
    "            [\n",
    "                self.data[i][j] + other.data[i][j] for j in range(self.cols)\n",
    "            ]\n",
    "            for i in range(self.rows)\n",
    "        ]\n",
    "        return Matrix(result)\n",
    "\n",
    "    def __sub__(self, other):\n",
    "        if self.rows != other.rows or self.cols != other.cols:\n",
    "            raise ValueError(\"Matrices must have the same dimensions for subtraction.\")\n",
    "        \n",
    "        result = [\n",
    "            [\n",
    "                self.data[i][j] - other.data[i][j] for j in range(self.cols)\n",
    "            ]\n",
    "            for i in range(self.rows)\n",
    "        ]\n",
    "        return Matrix(result)\n",
    "\n",
    "    def __mul__(self, other):\n",
    "        if self.cols != other.rows:\n",
    "            raise ValueError(\"Number of columns of the first matrix must equal the number of rows of the second matrix.\")\n",
    "        \n",
    "        result = [[0 for _ in range(other.cols)] for _ in range(self.rows)]\n",
    "        \n",
    "        for i in range(self.rows):\n",
    "            for j in range(other.cols):\n",
    "                for k in range(self.cols):\n",
    "                    result[i][j] += self.data[i][k] * other.data[k][j]\n",
    "        \n",
    "        return Matrix(result)\n",
    "if __name__ == \"__main__\":\n",
    "    # Define two matrices for addition and subtraction\n",
    "    matrix1 = Matrix([[1, 2], [3, 4]])\n",
    "    matrix2 = Matrix([[5, 6], [7, 8]])\n",
    "\n",
    "    print(\"Matrix 1:\")\n",
    "    print(matrix1)\n",
    "    print(\"\\nMatrix 2:\")\n",
    "    print(matrix2)\n",
    "\n",
    "    # Addition\n",
    "    print(\"\\nMatrix 1 + Matrix 2:\")\n",
    "    result_add = matrix1 + matrix2\n",
    "    print(result_add)\n",
    "\n",
    "    # Subtraction\n",
    "    print(\"\\nMatrix 1 - Matrix 2:\")\n",
    "    result_sub = matrix1 - matrix2\n",
    "    print(result_sub)\n",
    "\n",
    "    # Define two matrices for multiplication\n",
    "    matrix3 = Matrix([[1, 2, 3], [4, 5, 6]])\n",
    "    matrix4 = Matrix([[7, 8], [9, 10], [11, 12]])\n",
    "\n",
    "    print(\"\\nMatrix 3:\")\n",
    "    print(matrix3)\n",
    "    print(\"\\nMatrix 4:\")\n",
    "    print(matrix4)\n",
    "\n",
    "    # Multiplication\n",
    "    print(\"\\nMatrix 3 * Matrix 4:\")\n",
    "    result_mul = matrix3 * matrix4\n",
    "    print(result_mul)\n",
    "\n"
   ]
  },
  {
   "cell_type": "markdown",
   "metadata": {},
   "source": [
    "# Q12"
   ]
  },
  {
   "cell_type": "code",
   "execution_count": null,
   "metadata": {},
   "outputs": [],
   "source": []
  },
  {
   "cell_type": "code",
   "execution_count": null,
   "metadata": {},
   "outputs": [],
   "source": [
    "import math\n",
    "\n",
    "class QuadraticPolynomial(Polynomial):\n",
    "    def __init__(self, coefficients):\n",
    "        \"\"\"\n",
    "        Initializes a quadratic polynomial with exactly 3 coefficients for ax^2 + bx + c.\n",
    "        \"\"\"\n",
    "        if len(coefficients) != 3:\n",
    "            raise ValueError(\"A quadratic polynomial must have exactly 3 coefficients.\")\n",
    "        super().__init__(coefficients)\n",
    "\n",
    "    def find_roots(self):\n",
    "        \"\"\"\n",
    "        Finds the roots of the quadratic equation using the quadratic formula.\n",
    "        Returns the two roots as a tuple.\n",
    "        \"\"\"\n",
    "        a, b, c = self.coefficients\n",
    "        discriminant = b ** 2 - 4 * a * c\n",
    "        if discriminant < 0:\n",
    "            return None \n",
    "        elif discriminant == 0:\n",
    "            root = -b / (2 * a)\n",
    "            return (root, root)\n",
    "        else:\n",
    "            root1 = (-b + math.sqrt(discriminant)) / (2 * a)\n",
    "            root2 = (-b - math.sqrt(discriminant)) / (2 * a)\n",
    "            return (root1, root2)\n",
    "\n",
    "if __name__ == \"__main__\":\n",
    "    poly1 = Polynomial([2, 3, 4])\n",
    "    poly2 = Polynomial([1, -1, 1])\n",
    "    \n",
    "    print(\"Polynomial 1:\", poly1)\n",
    "    print(\"Polynomial 2:\", poly2)\n",
    "\n",
    "    sum_poly = poly1.add(poly2)\n",
    "    print(\"Sum of polynomials:\", sum_poly)\n",
    "\n",
    "    diff_poly = poly1.subtract(poly2)\n",
    "    print(\"Difference of polynomials:\", diff_poly)\n",
    "\n",
    "    x_value = 2\n",
    "    print(f\"Evaluation of Polynomial 1 at x={x_value}:\", poly1.evaluate(x_value))\n",
    "    print(f\"Evaluation of Polynomial 2 at x={x_value}:\", poly2.evaluate(x_value))\n",
    "\n",
    "    quad_poly = QuadraticPolynomial([1, -3, 2])\n",
    "    print(\"Quadratic polynomial:\", quad_poly)\n",
    "    roots = quad_poly.find_roots()\n",
    "    print(\"Roots of the quadratic polynomial:\", roots)\n"
   ]
  }
 ],
 "metadata": {
  "kernelspec": {
   "display_name": "base",
   "language": "python",
   "name": "python3"
  },
  "language_info": {
   "codemirror_mode": {
    "name": "ipython",
    "version": 3
   },
   "file_extension": ".py",
   "mimetype": "text/x-python",
   "name": "python",
   "nbconvert_exporter": "python",
   "pygments_lexer": "ipython3",
   "version": "3.11.7"
  }
 },
 "nbformat": 4,
 "nbformat_minor": 2
}
